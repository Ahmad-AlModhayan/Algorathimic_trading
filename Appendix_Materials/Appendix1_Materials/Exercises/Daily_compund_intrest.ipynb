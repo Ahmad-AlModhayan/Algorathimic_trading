{
 "cells": [
  {
   "cell_type": "markdown",
   "metadata": {},
   "source": [
    "__Daily__ Compound Interest"
   ]
  },
  {
   "cell_type": "code",
   "execution_count": 6,
   "metadata": {},
   "outputs": [
    {
     "name": "stdout",
     "output_type": "stream",
     "text": [
      "99.53279999999998\n"
     ]
    }
   ],
   "source": [
    "PV  = int (input('Please enter your bais amount: ')) # Present Value\n",
    "IR = float (float (input('Please enter Intrest rate: ')) / 100) # Intrest Rate\n",
    "DAYS = int (input('Please enter how many days to calculate: ')) # Days\n",
    "    \n",
    "FV = PV * (1 + IR)**DAYS\n",
    "\n",
    "print(FV)\n",
    "    "
   ]
  },
  {
   "cell_type": "code",
   "execution_count": null,
   "metadata": {},
   "outputs": [],
   "source": []
  }
 ],
 "metadata": {
  "kernelspec": {
   "display_name": "Python 3.8.5 ('base')",
   "language": "python",
   "name": "python3"
  },
  "language_info": {
   "codemirror_mode": {
    "name": "ipython",
    "version": 3
   },
   "file_extension": ".py",
   "mimetype": "text/x-python",
   "name": "python",
   "nbconvert_exporter": "python",
   "pygments_lexer": "ipython3",
   "version": "3.8.5"
  },
  "orig_nbformat": 4,
  "vscode": {
   "interpreter": {
    "hash": "4812b074cc48c65330da74c91e0a73b2c7496cd0bd910c8bed420d8cfed28571"
   }
  }
 },
 "nbformat": 4,
 "nbformat_minor": 2
}
