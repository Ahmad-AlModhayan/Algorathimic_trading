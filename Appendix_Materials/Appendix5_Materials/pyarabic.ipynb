{
 "cells": [
  {
   "cell_type": "markdown",
   "metadata": {},
   "source": [
    "OOP Python Arabic community course"
   ]
  },
  {
   "cell_type": "code",
   "execution_count": 1,
   "metadata": {},
   "outputs": [],
   "source": [
    "class Human:\n",
    "    name = input(\"Input your name\")\n",
    "    birth_input = input(\"Input your Birth year\")\n",
    "    birth = int(birth_input)\n",
    "    \n",
    "    def Talk(self):\n",
    "        print(\"Hello,\" + self.name, self.birth)\n",
    "    \n",
    "    # def Talk(self, name, birth):\n",
    "    #     print(\"Hello,\" + name, birth)\n",
    "    \n",
    "    def cal_age (self):\n",
    "        age = 2022 - self.birth\n",
    "        print(\"Your age is : \", age)"
   ]
  },
  {
   "cell_type": "code",
   "execution_count": 4,
   "metadata": {},
   "outputs": [
    {
     "name": "stdout",
     "output_type": "stream",
     "text": [
      "Hello,ahmad 2003\n"
     ]
    }
   ],
   "source": [
    "# Human().Talk()\n",
    "\n",
    "Ahmad = Human()\n",
    "Ahmad.Talk()"
   ]
  },
  {
   "cell_type": "code",
   "execution_count": 3,
   "metadata": {},
   "outputs": [
    {
     "name": "stdout",
     "output_type": "stream",
     "text": [
      "Your age is :  19\n"
     ]
    }
   ],
   "source": [
    "Human().cal_age()"
   ]
  },
  {
   "cell_type": "markdown",
   "metadata": {},
   "source": [
    "Encapsulation"
   ]
  },
  {
   "cell_type": "code",
   "execution_count": 74,
   "metadata": {},
   "outputs": [],
   "source": [
    "class Human :\n",
    "    def __init__(self, name, birth):\n",
    "        self.name = name\n",
    "        self.__birth = birth\n",
    "        \n",
    "    # Getter Method 1\n",
    "\n",
    "    def get_birth(self):\n",
    "        print(self.__birth)\n",
    "    \n",
    "    # Getter Method 2\n",
    "    \n",
    "    @property\n",
    "    \n",
    "    def birth(self):\n",
    "        return self.__birth\n",
    "    \n",
    "    # Setter Method 1\n",
    "    \n",
    "    def set_birth(self, value):\n",
    "        if 1920 < value < 2022 :\n",
    "            self.__birth = value\n",
    "            print(\"New Value has been signed !!\")\n",
    "        else:\n",
    "            print(\"Invalid Value try again!\")\n",
    "        \n",
    "    # Setter Method 2\n",
    "    \n",
    "    @birth.setter\n",
    "    \n",
    "    def birth(self, value):\n",
    "        \n",
    "        if 1920 < value < 2022 :\n",
    "            self.__birth = value\n",
    "            print(\"New Value has been signed !!\")\n",
    "        else:\n",
    "            print(\"Invalid Value try again!\")\n"
   ]
  },
  {
   "cell_type": "code",
   "execution_count": 75,
   "metadata": {},
   "outputs": [
    {
     "data": {
      "text/plain": [
       "2003"
      ]
     },
     "execution_count": 75,
     "metadata": {},
     "output_type": "execute_result"
    }
   ],
   "source": [
    "ahmad = Human(\"Ahmad\", 2003)\n",
    "ahmad.birth"
   ]
  },
  {
   "cell_type": "code",
   "execution_count": 76,
   "metadata": {},
   "outputs": [
    {
     "name": "stdout",
     "output_type": "stream",
     "text": [
      "New Value has been signed !!\n",
      "2000\n"
     ]
    }
   ],
   "source": [
    "ahmad.set_birth(2000)\n",
    "\n",
    "ahmad.get_birth()"
   ]
  },
  {
   "cell_type": "code",
   "execution_count": 77,
   "metadata": {},
   "outputs": [
    {
     "data": {
      "text/plain": [
       "2000"
      ]
     },
     "execution_count": 77,
     "metadata": {},
     "output_type": "execute_result"
    }
   ],
   "source": [
    "# method 2 \n",
    "\n",
    "ahmad.birth"
   ]
  },
  {
   "cell_type": "code",
   "execution_count": 79,
   "metadata": {},
   "outputs": [
    {
     "name": "stdout",
     "output_type": "stream",
     "text": [
      "Invalid Value try again!\n"
     ]
    }
   ],
   "source": [
    "ahmad.birth = 100"
   ]
  },
  {
   "cell_type": "code",
   "execution_count": 80,
   "metadata": {},
   "outputs": [
    {
     "name": "stdout",
     "output_type": "stream",
     "text": [
      "New Value has been signed !!\n"
     ]
    }
   ],
   "source": [
    "ahmad.birth = 2003"
   ]
  },
  {
   "cell_type": "code",
   "execution_count": null,
   "metadata": {},
   "outputs": [],
   "source": [
    "class Human:\n",
    "    def __init__(self, Name):\n",
    "        self.Name = Name\n",
    "        self.Independent = True\n",
    "        \n",
    "    def Talk(self):\n",
    "        print(\"\""
   ]
  }
 ],
 "metadata": {
  "kernelspec": {
   "display_name": "Python 3.10.7 64-bit",
   "language": "python",
   "name": "python3"
  },
  "language_info": {
   "codemirror_mode": {
    "name": "ipython",
    "version": 3
   },
   "file_extension": ".py",
   "mimetype": "text/x-python",
   "name": "python",
   "nbconvert_exporter": "python",
   "pygments_lexer": "ipython3",
   "version": "3.10.7"
  },
  "orig_nbformat": 4,
  "vscode": {
   "interpreter": {
    "hash": "369f2c481f4da34e4445cda3fffd2e751bd1c4d706f27375911949ba6bb62e1c"
   }
  }
 },
 "nbformat": 4,
 "nbformat_minor": 2
}
